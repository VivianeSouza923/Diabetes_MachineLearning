{
 "cells": [
  {
   "cell_type": "markdown",
   "metadata": {},
   "source": [
    "Atividades\n",
    "===\n",
    "\n",
    "Essas atividade são relativas a aulas de Machine Learning.\n",
    "\n",
    "> Lembre de criar uma `virtualenv` com os `requirements.txt` do repositório.\n",
    "\n",
    "> Lembre de criar uma `kernel` do jupyter para seus desenvolvimentos\n",
    "\n",
    "> Enviei apenas o seu notebook para correção. Não é necessário enviar nenhum outro arquivo. Siga o padrão `Atividades-<NOME-DO-ALUNO>.ipynb`"
   ]
  },
  {
   "cell_type": "markdown",
   "metadata": {},
   "source": [
    "# Machine Learning"
   ]
  },
  {
   "cell_type": "markdown",
   "metadata": {},
   "source": [
    "## 1. Classificação com *hold-out*."
   ]
  },
  {
   "cell_type": "markdown",
   "metadata": {},
   "source": [
    "## Imports"
   ]
  },
  {
   "cell_type": "code",
   "execution_count": 9,
   "metadata": {},
   "outputs": [],
   "source": [
    "import pandas as pd\n",
    "from sklearn.model_selection import StratifiedShuffleSplit\n",
    "import numpy as np\n",
    "from sklearn.discriminant_analysis import QuadraticDiscriminantAnalysis\n",
    "from sklearn.neural_network import MLPClassifier\n",
    "from sklearn.metrics import accuracy_score, recall_score, f1_score"
   ]
  },
  {
   "cell_type": "markdown",
   "metadata": {},
   "source": [
    "## Carregue a base"
   ]
  },
  {
   "cell_type": "code",
   "execution_count": 10,
   "metadata": {},
   "outputs": [],
   "source": [
    "# code here"
   ]
  },
  {
   "cell_type": "markdown",
   "metadata": {},
   "source": [
    "a) Utilize o método hold-out para dividir a base de dados [diabetes.csv](https://github.com/lapisco/machine_learning_course/blob/master/data/diabetes.csv) em treino e teste (50 iterações).\n",
    "\n",
    "**help**: [factorize](https://pandas.pydata.org/pandas-docs/stable/reference/api/pandas.factorize.html) (converte o rótulo da classe para 0 e 1) e [StratifiedShuffleSplit](https://scikit-learn.org/stable/modules/generated/sklearn.model_selection.StratifiedShuffleSplit.html) (divisão balanceada dos dados)."
   ]
  },
  {
   "cell_type": "code",
   "execution_count": 11,
   "metadata": {},
   "outputs": [],
   "source": [
    "# code here"
   ]
  },
  {
   "cell_type": "markdown",
   "metadata": {},
   "source": [
    "b) Use os classificadores MLP e QDA dentro do método hold-out do item anterior.\n",
    "\n",
    "**help**: [Taxa de acerto do kNN com base Iris](https://github.com/lapisco/machine_learning_course/blob/master/ml.ipynb) (exemplo do kNN com hold-out), [QuadraticDiscriminantAnalysis](https://scikit-learn.org/stable/modules/generated/sklearn.discriminant_analysis.QuadraticDiscriminantAnalysis.html) e [Multilayer Perceptron](https://scikit-learn.org/stable/modules/generated/sklearn.neural_network.MLPClassifier.html)"
   ]
  },
  {
   "cell_type": "code",
   "execution_count": 4,
   "metadata": {},
   "outputs": [],
   "source": [
    "# code here"
   ]
  },
  {
   "cell_type": "markdown",
   "metadata": {},
   "source": [
    "c) Calcule a média e o desvio padrão das métricas a seguir para os classificadores do item anterior:\n",
    "- acurácia\n",
    "- sensibilidade (recall)\n",
    "- f1_score\n",
    "- tempo de teste    \n",
    "\n",
    "**help**: use as funções do [accuracy_score](https://scikit-learn.org/stable/modules/generated/sklearn.metrics.accuracy_score.html), [recall_score](https://scikit-learn.org/stable/modules/generated/sklearn.metrics.recall_score.html), [f1_score](https://scikit-learn.org/stable/modules/generated/sklearn.metrics.f1_score.html). Dica de leitura https://www.dataschool.io/simple-guide-to-confusion-matrix-terminology/"
   ]
  },
  {
   "cell_type": "markdown",
   "metadata": {},
   "source": [
    "## 2. Gráfico de superfície de decisão\n",
    "\n",
    "- Plote a superfície de decisão de todas as combinações de atributos para o SVM com kernel Linear e RBF usando a base de dados da Iris. Escolha os hiperparâmetros usando o RandomizedSearchCV.\n",
    "\n",
    "**help**: [decision_surface_mlp()](https://github.com/lapisco/machine_learning_course/blob/master/ml.ipynb) (exemplo da superfície de decisão com MLP), [Random Search](https://github.com/lapisco/machine_learning_course/blob/master/ml.ipynb) (exemplo do RandomizedSearchCV)"
   ]
  },
  {
   "cell_type": "code",
   "execution_count": 6,
   "metadata": {},
   "outputs": [],
   "source": [
    "# code here"
   ]
  },
  {
   "cell_type": "markdown",
   "metadata": {},
   "source": [
    "## 3. Extração de atributos e classificação\n",
    "\n",
    "a) Crie uma base de dados utilizando algum dos extratores de características visto no módulo 2 (LBP, HU ou GLCM) com as imagens do link a seguir. Cada imagem representará uma amostra e seus atributos serão obtidos pelo extrator escolhido. Use o nome do arquivo para saber a classe. Por exemplo, ``P01_01.JPG`` será a 1&deg; amostra e sua classe será a 1, enquanto a imagem ``P02_02.JPG`` será a 42&deg; amostra e sua classe será a 2. Ao final, sua base de dados deve ser composta por 600 amostras com 15 classes (40 amostras por classe). \\\n",
    "[Imagens](https://www.dropbox.com/sh/fwp8l3jt1hbd5ya/AAByxHuzLK_EFLawWieR1eUHa?dl=0) \\\n",
    "[Site com a descrição](https://lapisco.ifce.edu.br/producao-academica/private-datasets/image-database-of-virtual-and-real-environment-for-mobile-robot-localization-from-gopro/)"
   ]
  },
  {
   "cell_type": "code",
   "execution_count": 6,
   "metadata": {},
   "outputs": [],
   "source": [
    "# code here"
   ]
  },
  {
   "cell_type": "markdown",
   "metadata": {},
   "source": [
    "b) Repita a primeira questão com a base de dados criada no item anterior."
   ]
  },
  {
   "cell_type": "code",
   "execution_count": 13,
   "metadata": {},
   "outputs": [],
   "source": [
    "# code here"
   ]
  }
 ],
 "metadata": {
  "kernelspec": {
   "display_name": "Python 3",
   "language": "python",
   "name": "python3"
  },
  "language_info": {
   "codemirror_mode": {
    "name": "ipython",
    "version": 3
   },
   "file_extension": ".py",
   "mimetype": "text/x-python",
   "name": "python",
   "nbconvert_exporter": "python",
   "pygments_lexer": "ipython3",
   "version": "3.8.5"
  }
 },
 "nbformat": 4,
 "nbformat_minor": 4
}
